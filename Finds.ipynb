{
 "cells": [
  {
   "cell_type": "code",
   "execution_count": 23,
   "metadata": {},
   "outputs": [
    {
     "name": "stdout",
     "output_type": "stream",
     "text": [
      "     sky airtemp Humidity    Wind Water forecast Enjoy sport\n",
      "0  Sunny    Warm   Normal  Strong  Warm     Same         Yes\n",
      "1  Sunny    Warm     high  Strong  Warm     Same         Yes\n",
      "2  Rainy    Cold     high  Strong  Warm   Change          No\n",
      "3  Sunny    Warm     high  Strong  Cool   Change         Yes\n",
      "The attributes are:  [['Sunny' 'Warm' 'Normal' 'Strong' 'Warm' 'Same']\n",
      " ['Sunny' 'Warm' 'high' 'Strong' 'Warm' 'Same']\n",
      " ['Rainy' 'Cold' 'high' 'Strong' 'Warm' 'Change']\n",
      " ['Sunny' 'Warm' 'high' 'Strong' 'Cool' 'Change']]\n",
      "The target is:  ['Yes' 'Yes' 'No' 'Yes']\n",
      "n The final hypothesis is: ['Sunny' 'Warm' '?' 'Strong' '?' '?']\n"
     ]
    }
   ],
   "source": [
    "import pandas as pd\n",
    "import numpy as np\n",
    " \n",
    "#to read the data in the csv file\n",
    "data = pd.read_csv(\"data.csv\")\n",
    "print(data)\n",
    " \n",
    "#making an array of all the attributes\n",
    "d = np.array(data)[:,:-1]\n",
    "print(\"The attributes are: \",d)\n",
    " \n",
    "#segragating the target that has positive and negative examples\n",
    "target = np.array(data)[:,-1]\n",
    "print(\"The target is: \",target)\n",
    " \n",
    "#training function to implement find-s algorithm\n",
    "def train(c,t):\n",
    "    for i, val in enumerate(t):\n",
    "        if val == \"Yes\":\n",
    "            specific_hypothesis = c[i].copy()\n",
    "            break\n",
    "             \n",
    "    for i, val in enumerate(c):\n",
    "        if t[i] == \"Yes\":\n",
    "            for x in range(len(specific_hypothesis)):\n",
    "                if val[x] != specific_hypothesis[x]:\n",
    "                    specific_hypothesis[x] = '?'\n",
    "                else:\n",
    "                    pass\n",
    "                 \n",
    "    return specific_hypothesis\n",
    " \n",
    "#obtaining the final hypothesis\n",
    "print(\"The final hypothesis is:\",train(d,target))"
   ]
  },
  {
   "cell_type": "code",
   "execution_count": 25,
   "metadata": {},
   "outputs": [
    {
     "name": "stdout",
     "output_type": "stream",
     "text": [
      "     sky airtemp Humidity    Wind Water forecast Enjoy sport\n",
      "0  Sunny    Warm   Normal  Strong  Warm     Same         Yes\n",
      "1  Sunny    Warm     high  Strong  Warm     Same         Yes\n",
      "2  Rainy    Cold     high  Strong  Warm   Change          No\n",
      "3  Sunny    Warm     high  Strong  Cool   Change         Yes\n",
      "[['Sunny' 'Warm' 'Normal' 'Strong' 'Warm' 'Same']\n",
      " ['Sunny' 'Warm' 'high' 'Strong' 'Warm' 'Same']\n",
      " ['Rainy' 'Cold' 'high' 'Strong' 'Warm' 'Change']\n",
      " ['Sunny' 'Warm' 'high' 'Strong' 'Cool' 'Change']]\n",
      "['Yes' 'Yes' 'No' 'Yes']\n",
      "['Sunny' 'Warm' '?' 'Strong' '?' '?']\n"
     ]
    }
   ],
   "source": [
    "import pandas as pd\n",
    "import numpy as np\n",
    "data = pd.read_csv('data.csv')\n",
    "print(data)\n",
    "concepts = np.array(data)[:,:-1]\n",
    "print(concepts)\n",
    "target = np.array(data)[:,-1]\n",
    "print(target)\n",
    "def train(con, tar):\n",
    "    for i, val in enumerate(tar):\n",
    "        if val == 'Yes':\n",
    "            specific_h = con[i].copy()\n",
    "            break\n",
    "            \n",
    "    for i, val in enumerate(con):\n",
    "        if tar[i] == 'Yes':\n",
    "            for x in range(len(specific_h)):\n",
    "                if val[x] != specific_h[x]:\n",
    "                    specific_h[x] = '?'\n",
    "                else:\n",
    "                    pass\n",
    "    return specific_h\n",
    "print(train(concepts, target))"
   ]
  }
 ],
 "metadata": {
  "language_info": {
   "name": "python"
  }
 },
 "nbformat": 4,
 "nbformat_minor": 2
}
